{
 "cells": [
  {
   "cell_type": "code",
   "execution_count": 1,
   "metadata": {},
   "outputs": [],
   "source": [
    "import pandas as pd\n",
    "import numpy as np\n",
    "import matplotlib.pyplot as plt\n"
   ]
  },
  {
   "cell_type": "code",
   "execution_count": 2,
   "metadata": {},
   "outputs": [],
   "source": [
    "df = pd.read_csv(\"mnist_train.csv\")"
   ]
  },
  {
   "cell_type": "code",
   "execution_count": 3,
   "metadata": {
    "scrolled": true
   },
   "outputs": [
    {
     "name": "stdout",
     "output_type": "stream",
     "text": [
      "[[5923]\n",
      " [6742]\n",
      " [5958]\n",
      " [6131]\n",
      " [5842]\n",
      " [5421]\n",
      " [5918]\n",
      " [6265]\n",
      " [5851]\n",
      " [5949]]\n"
     ]
    }
   ],
   "source": [
    "df.sort_values(by=['label'],ascending=True,inplace=True)\n",
    "x_train = df.iloc[:,1:785]\n",
    "y_train = df.iloc[:,0]\n",
    "\n",
    "#for i in range(10):\n",
    "#    z = x_train.iloc[i,:]\n",
    "#    z = np.asarray(z)\n",
    "#    w = z.reshape(28,28)\n",
    "#    plt.imshow(w,cmap='gray')\n",
    "#    plt.show()\n",
    "count = np.zeros([10,1],dtype='int')\n",
    "for i in range(len(y_train)):\n",
    "    count[int(y_train.iloc[i])]=count[int(y_train.iloc[i])]+1\n",
    "    \n",
    "m = len(count)\n",
    "datas = df.as_matrix()\n",
    "x_train = datas[:,1:785]\n",
    "y_train = datas[:,0]\n",
    "import math as mt\n",
    "dff = pd.read_csv(\"mnist_test.csv\")\n",
    "x_test = df.iloc[:,1:785]\n",
    "y_test = df.iloc[:,0]\n",
    "datass = dff.as_matrix()\n",
    "x_test = datass[:,1:785]\n",
    "y_test = datass[:,0]\n",
    "for i in range(len(y_train)):\n",
    "    x_train[i,:] = (x_train[i,:]-x_train[i,:].mean())/x_train[i,:].std()\n",
    "print(count)\n",
    "mean = np.zeros([10,784],dtype='int64')\n",
    "k = 0\n",
    "x = 0                                           # x=0 creates nd array\n",
    "for i in range(m):\n",
    "    h = x+count[i]\n",
    "    for j in range(784):\n",
    "        mean[k][j] =float((float(np.sum(x_train[int(x):int(h),j])))/float(count[i]))\n",
    "    x = x + count[i]\n",
    "    k = k + 1\n",
    "sigma = 0\n",
    "sigma = np.empty([len(y_train),784],dtype='int')\n",
    "q=0\n",
    "for i in range(m):\n",
    "    for j in range(int(count[i])):\n",
    "        sigma[int(q)+j,:] = x_train[int(q)+j,:]-mean[i,:]\n",
    "    q = q + count[i]\n",
    "#final_sigma = np.empty([10,784,784],dtype='float')\n",
    "#x = 0\n",
    "#temp = np.zeros([784,784],dtype='float')\n",
    "#k = 0\n",
    "#cnt = 0\n",
    "#s = int(count[0])\n",
    "#print(sigma[:,1])\n",
    "#print(sigma.T[1,:])\n",
    "#for i in range(len(y_train)):\n",
    "#    cnt = 0\n",
    "#   if(i>s-1):\n",
    "#        final_sigma[int(k)]=temp\n",
    "#        k=k+1\n",
    "#        temp = np.zeros([784,784],dtype='float')\n",
    "#        s+=int(count[int(k)])\n",
    "#    temp = temp + ((np.dot((sigma[i,:]).reshape(784,1),(sigma.T[:,i]).reshape(1,784)))/(count[int(k)]))\n",
    "#    final_sigma[int(k)]=temp"
   ]
  },
  {
   "cell_type": "code",
   "execution_count": 4,
   "metadata": {},
   "outputs": [
    {
     "name": "stdout",
     "output_type": "stream",
     "text": [
      "(784, 784)\n"
     ]
    }
   ],
   "source": [
    "x = 0\n",
    "final_sigma = 0\n",
    "for i in range(m):\n",
    "    h = x + count[i]\n",
    "    final_sigma += (np.dot(sigma[int(x):int(h),:].T,sigma[int(x):int(h),:]))/(count[i]-1)\n",
    "    x = x + count[i]\n",
    "final_sigma = final_sigma/10\n",
    "print(final_sigma.shape)\n",
    "updated_sigma = final_sigma"
   ]
  },
  {
   "cell_type": "code",
   "execution_count": 5,
   "metadata": {},
   "outputs": [],
   "source": [
    "pred = np.zeros([50,1],dtype='int')\n",
    "val = np.zeros([1,784],dtype='int')\n",
    "vall = np.zeros([784,1],dtype='int')\n",
    "sig_inv = np.linalg.pinv(updated_sigma)\n",
    "for i in range(50):\n",
    "    predictor = 0\n",
    "    maxi = -1\n",
    "    for j in range(m):\n",
    "        val = mean[j,:].reshape(1,784)\n",
    "        #sig_inv = np.linalg.pinv(updated_sigma)\n",
    "        vall = x_test[i,:].reshape(784,1)\n",
    "        dot1 = np.dot(sig_inv,vall)\n",
    "        dot2 = np.dot(val,dot1)\n",
    "        val_t = val.reshape(784,1)\n",
    "        dot3 = np.dot(sig_inv,val_t)\n",
    "        dot4 = np.dot(val,dot3)\n",
    "        fa = dot2 - 0.5*(dot4) + mt.log(count[j]/len(y_train))\n",
    "        if(fa>maxi):\n",
    "            maxi=fa\n",
    "            predictor=j\n",
    "    pred[i]=predictor\n"
   ]
  },
  {
   "cell_type": "code",
   "execution_count": 6,
   "metadata": {},
   "outputs": [
    {
     "name": "stdout",
     "output_type": "stream",
     "text": [
      "0.82\n",
      "[[7]\n",
      " [2]\n",
      " [1]\n",
      " [0]\n",
      " [4]\n",
      " [1]\n",
      " [4]\n",
      " [9]\n",
      " [4]\n",
      " [9]\n",
      " [0]\n",
      " [0]\n",
      " [9]\n",
      " [0]\n",
      " [1]\n",
      " [5]\n",
      " [4]\n",
      " [7]\n",
      " [6]\n",
      " [4]\n",
      " [9]\n",
      " [6]\n",
      " [6]\n",
      " [5]\n",
      " [4]\n",
      " [0]\n",
      " [7]\n",
      " [4]\n",
      " [0]\n",
      " [1]\n",
      " [3]\n",
      " [1]\n",
      " [3]\n",
      " [0]\n",
      " [7]\n",
      " [2]\n",
      " [7]\n",
      " [1]\n",
      " [0]\n",
      " [1]\n",
      " [1]\n",
      " [7]\n",
      " [4]\n",
      " [1]\n",
      " [3]\n",
      " [3]\n",
      " [1]\n",
      " [6]\n",
      " [4]\n",
      " [4]]\n"
     ]
    }
   ],
   "source": [
    "cnt=0\n",
    "for i in range(50):\n",
    "    if(pred[i]==y_test[i]):\n",
    "        cnt+=1\n",
    "print(int(cnt)/50)\n",
    "print(pred)"
   ]
  },
  {
   "cell_type": "code",
   "execution_count": null,
   "metadata": {},
   "outputs": [],
   "source": []
  }
 ],
 "metadata": {
  "kernelspec": {
   "display_name": "Python 3",
   "language": "python",
   "name": "python3"
  },
  "language_info": {
   "codemirror_mode": {
    "name": "ipython",
    "version": 3
   },
   "file_extension": ".py",
   "mimetype": "text/x-python",
   "name": "python",
   "nbconvert_exporter": "python",
   "pygments_lexer": "ipython3",
   "version": "3.6.4"
  }
 },
 "nbformat": 4,
 "nbformat_minor": 2
}
